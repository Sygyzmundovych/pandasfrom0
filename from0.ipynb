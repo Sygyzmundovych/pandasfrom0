{
 "cells": [
  {
   "cell_type": "code",
   "execution_count": null,
   "id": "medieval-married",
   "metadata": {},
   "outputs": [],
   "source": [
    "!pip install pandas"
   ]
  },
  {
   "cell_type": "code",
   "execution_count": 1,
   "id": "differential-triangle",
   "metadata": {},
   "outputs": [],
   "source": [
    "import pandas as pd\n",
    "import numpy as np"
   ]
  },
  {
   "cell_type": "markdown",
   "id": "micro-kelly",
   "metadata": {},
   "source": [
    "## Pandas Series"
   ]
  },
  {
   "cell_type": "markdown",
   "id": "joint-garbage",
   "metadata": {},
   "source": [
    "##### Let's create a Series for days in Calendar Year 2021"
   ]
  },
  {
   "cell_type": "code",
   "execution_count": 2,
   "id": "administrative-temperature",
   "metadata": {},
   "outputs": [],
   "source": [
    "cy2021=pd.Series([31,28,31,30,31,30,31,31,30,31,30,31])"
   ]
  },
  {
   "cell_type": "code",
   "execution_count": 3,
   "id": "automated-universal",
   "metadata": {},
   "outputs": [
    {
     "name": "stdout",
     "output_type": "stream",
     "text": [
      "0     31\n",
      "1     28\n",
      "2     31\n",
      "3     30\n",
      "4     31\n",
      "5     30\n",
      "6     31\n",
      "7     31\n",
      "8     30\n",
      "9     31\n",
      "10    30\n",
      "11    31\n",
      "dtype: int64\n"
     ]
    }
   ],
   "source": [
    "print(cy2021)"
   ]
  },
  {
   "cell_type": "code",
   "execution_count": 4,
   "id": "tracked-empire",
   "metadata": {
    "collapsed": true,
    "jupyter": {
     "outputs_hidden": true
    },
    "tags": []
   },
   "outputs": [
    {
     "data": {
      "text/plain": [
       "\u001b[0;31mInit signature:\u001b[0m\n",
       "\u001b[0mpd\u001b[0m\u001b[0;34m.\u001b[0m\u001b[0mSeries\u001b[0m\u001b[0;34m(\u001b[0m\u001b[0;34m\u001b[0m\n",
       "\u001b[0;34m\u001b[0m    \u001b[0mdata\u001b[0m\u001b[0;34m=\u001b[0m\u001b[0;32mNone\u001b[0m\u001b[0;34m,\u001b[0m\u001b[0;34m\u001b[0m\n",
       "\u001b[0;34m\u001b[0m    \u001b[0mindex\u001b[0m\u001b[0;34m=\u001b[0m\u001b[0;32mNone\u001b[0m\u001b[0;34m,\u001b[0m\u001b[0;34m\u001b[0m\n",
       "\u001b[0;34m\u001b[0m    \u001b[0mdtype\u001b[0m\u001b[0;34m=\u001b[0m\u001b[0;32mNone\u001b[0m\u001b[0;34m,\u001b[0m\u001b[0;34m\u001b[0m\n",
       "\u001b[0;34m\u001b[0m    \u001b[0mname\u001b[0m\u001b[0;34m=\u001b[0m\u001b[0;32mNone\u001b[0m\u001b[0;34m,\u001b[0m\u001b[0;34m\u001b[0m\n",
       "\u001b[0;34m\u001b[0m    \u001b[0mcopy\u001b[0m\u001b[0;34m=\u001b[0m\u001b[0;32mFalse\u001b[0m\u001b[0;34m,\u001b[0m\u001b[0;34m\u001b[0m\n",
       "\u001b[0;34m\u001b[0m    \u001b[0mfastpath\u001b[0m\u001b[0;34m=\u001b[0m\u001b[0;32mFalse\u001b[0m\u001b[0;34m,\u001b[0m\u001b[0;34m\u001b[0m\n",
       "\u001b[0;34m\u001b[0m\u001b[0;34m)\u001b[0m\u001b[0;34m\u001b[0m\u001b[0;34m\u001b[0m\u001b[0m\n",
       "\u001b[0;31mDocstring:\u001b[0m     \n",
       "One-dimensional ndarray with axis labels (including time series).\n",
       "\n",
       "Labels need not be unique but must be a hashable type. The object\n",
       "supports both integer- and label-based indexing and provides a host of\n",
       "methods for performing operations involving the index. Statistical\n",
       "methods from ndarray have been overridden to automatically exclude\n",
       "missing data (currently represented as NaN).\n",
       "\n",
       "Operations between Series (+, -, /, *, **) align values based on their\n",
       "associated index values-- they need not be the same length. The result\n",
       "index will be the sorted union of the two indexes.\n",
       "\n",
       "Parameters\n",
       "----------\n",
       "data : array-like, Iterable, dict, or scalar value\n",
       "    Contains data stored in Series. If data is a dict, argument order is\n",
       "    maintained.\n",
       "index : array-like or Index (1d)\n",
       "    Values must be hashable and have the same length as `data`.\n",
       "    Non-unique index values are allowed. Will default to\n",
       "    RangeIndex (0, 1, 2, ..., n) if not provided. If data is dict-like\n",
       "    and index is None, then the keys in the data are used as the index. If the\n",
       "    index is not None, the resulting Series is reindexed with the index values.\n",
       "dtype : str, numpy.dtype, or ExtensionDtype, optional\n",
       "    Data type for the output Series. If not specified, this will be\n",
       "    inferred from `data`.\n",
       "    See the :ref:`user guide <basics.dtypes>` for more usages.\n",
       "name : str, optional\n",
       "    The name to give to the Series.\n",
       "copy : bool, default False\n",
       "    Copy input data.\n",
       "\n",
       "Examples\n",
       "--------\n",
       "Constructing Series from a dictionary with an Index specified\n",
       "\n",
       ">>> d = {'a': 1, 'b': 2, 'c': 3}\n",
       ">>> ser = pd.Series(data=d, index=['a', 'b', 'c'])\n",
       ">>> ser\n",
       "a   1\n",
       "b   2\n",
       "c   3\n",
       "dtype: int64\n",
       "\n",
       "The keys of the dictionary match with the Index values, hence the Index\n",
       "values have no effect.\n",
       "\n",
       ">>> d = {'a': 1, 'b': 2, 'c': 3}\n",
       ">>> ser = pd.Series(data=d, index=['x', 'y', 'z'])\n",
       ">>> ser\n",
       "x   NaN\n",
       "y   NaN\n",
       "z   NaN\n",
       "dtype: float64\n",
       "\n",
       "Note that the Index is first build with the keys from the dictionary.\n",
       "After this the Series is reindexed with the given Index values, hence we\n",
       "get all NaN as a result.\n",
       "\u001b[0;31mFile:\u001b[0m           ~/miniconda3/envs/pandas0/lib/python3.8/site-packages/pandas/core/series.py\n",
       "\u001b[0;31mType:\u001b[0m           type\n",
       "\u001b[0;31mSubclasses:\u001b[0m     SubclassedSeries\n"
      ]
     },
     "metadata": {},
     "output_type": "display_data"
    }
   ],
   "source": [
    "pd.Series?"
   ]
  },
  {
   "cell_type": "code",
   "execution_count": 5,
   "id": "solid-auckland",
   "metadata": {},
   "outputs": [],
   "source": [
    "cy2021=pd.Series({1:31,2:28,3:31,4:30,5:31,6:30,7:31,8:31,9:30,10:31,11:30,12:31})"
   ]
  },
  {
   "cell_type": "code",
   "execution_count": 6,
   "id": "adapted-craft",
   "metadata": {},
   "outputs": [
    {
     "name": "stdout",
     "output_type": "stream",
     "text": [
      "1     31\n",
      "2     28\n",
      "3     31\n",
      "4     30\n",
      "5     31\n",
      "6     30\n",
      "7     31\n",
      "8     31\n",
      "9     30\n",
      "10    31\n",
      "11    30\n",
      "12    31\n",
      "dtype: int64\n"
     ]
    }
   ],
   "source": [
    "print(cy2021)"
   ]
  },
  {
   "cell_type": "code",
   "execution_count": null,
   "id": "cordless-adult",
   "metadata": {},
   "outputs": [],
   "source": [
    "print(cy2021.head())\n",
    "print(cy2021.tail(3))"
   ]
  },
  {
   "cell_type": "markdown",
   "id": "spanish-collar",
   "metadata": {},
   "source": [
    "## Indexing"
   ]
  },
  {
   "cell_type": "code",
   "execution_count": 7,
   "id": "accepted-locking",
   "metadata": {
    "tags": []
   },
   "outputs": [
    {
     "ename": "KeyError",
     "evalue": "0",
     "output_type": "error",
     "traceback": [
      "\u001b[0;31m---------------------------------------------------------------------------\u001b[0m",
      "\u001b[0;31mKeyError\u001b[0m                                  Traceback (most recent call last)",
      "\u001b[0;32m~/miniconda3/envs/pandas0/lib/python3.8/site-packages/pandas/core/indexes/base.py\u001b[0m in \u001b[0;36mget_loc\u001b[0;34m(self, key, method, tolerance)\u001b[0m\n\u001b[1;32m   3079\u001b[0m             \u001b[0;32mtry\u001b[0m\u001b[0;34m:\u001b[0m\u001b[0;34m\u001b[0m\u001b[0;34m\u001b[0m\u001b[0m\n\u001b[0;32m-> 3080\u001b[0;31m                 \u001b[0;32mreturn\u001b[0m \u001b[0mself\u001b[0m\u001b[0;34m.\u001b[0m\u001b[0m_engine\u001b[0m\u001b[0;34m.\u001b[0m\u001b[0mget_loc\u001b[0m\u001b[0;34m(\u001b[0m\u001b[0mcasted_key\u001b[0m\u001b[0;34m)\u001b[0m\u001b[0;34m\u001b[0m\u001b[0;34m\u001b[0m\u001b[0m\n\u001b[0m\u001b[1;32m   3081\u001b[0m             \u001b[0;32mexcept\u001b[0m \u001b[0mKeyError\u001b[0m \u001b[0;32mas\u001b[0m \u001b[0merr\u001b[0m\u001b[0;34m:\u001b[0m\u001b[0;34m\u001b[0m\u001b[0;34m\u001b[0m\u001b[0m\n",
      "\u001b[0;32mpandas/_libs/index.pyx\u001b[0m in \u001b[0;36mpandas._libs.index.IndexEngine.get_loc\u001b[0;34m()\u001b[0m\n",
      "\u001b[0;32mpandas/_libs/index.pyx\u001b[0m in \u001b[0;36mpandas._libs.index.IndexEngine.get_loc\u001b[0;34m()\u001b[0m\n",
      "\u001b[0;32mpandas/_libs/hashtable_class_helper.pxi\u001b[0m in \u001b[0;36mpandas._libs.hashtable.Int64HashTable.get_item\u001b[0;34m()\u001b[0m\n",
      "\u001b[0;32mpandas/_libs/hashtable_class_helper.pxi\u001b[0m in \u001b[0;36mpandas._libs.hashtable.Int64HashTable.get_item\u001b[0;34m()\u001b[0m\n",
      "\u001b[0;31mKeyError\u001b[0m: 0",
      "\nThe above exception was the direct cause of the following exception:\n",
      "\u001b[0;31mKeyError\u001b[0m                                  Traceback (most recent call last)",
      "\u001b[0;32m<ipython-input-7-115a6fa1f78c>\u001b[0m in \u001b[0;36m<module>\u001b[0;34m\u001b[0m\n\u001b[0;32m----> 1\u001b[0;31m \u001b[0mcy2021\u001b[0m\u001b[0;34m[\u001b[0m\u001b[0;36m0\u001b[0m\u001b[0;34m]\u001b[0m\u001b[0;34m\u001b[0m\u001b[0;34m\u001b[0m\u001b[0m\n\u001b[0m",
      "\u001b[0;32m~/miniconda3/envs/pandas0/lib/python3.8/site-packages/pandas/core/series.py\u001b[0m in \u001b[0;36m__getitem__\u001b[0;34m(self, key)\u001b[0m\n\u001b[1;32m    851\u001b[0m \u001b[0;34m\u001b[0m\u001b[0m\n\u001b[1;32m    852\u001b[0m         \u001b[0;32melif\u001b[0m \u001b[0mkey_is_scalar\u001b[0m\u001b[0;34m:\u001b[0m\u001b[0;34m\u001b[0m\u001b[0;34m\u001b[0m\u001b[0m\n\u001b[0;32m--> 853\u001b[0;31m             \u001b[0;32mreturn\u001b[0m \u001b[0mself\u001b[0m\u001b[0;34m.\u001b[0m\u001b[0m_get_value\u001b[0m\u001b[0;34m(\u001b[0m\u001b[0mkey\u001b[0m\u001b[0;34m)\u001b[0m\u001b[0;34m\u001b[0m\u001b[0;34m\u001b[0m\u001b[0m\n\u001b[0m\u001b[1;32m    854\u001b[0m \u001b[0;34m\u001b[0m\u001b[0m\n\u001b[1;32m    855\u001b[0m         \u001b[0;32mif\u001b[0m \u001b[0mis_hashable\u001b[0m\u001b[0;34m(\u001b[0m\u001b[0mkey\u001b[0m\u001b[0;34m)\u001b[0m\u001b[0;34m:\u001b[0m\u001b[0;34m\u001b[0m\u001b[0;34m\u001b[0m\u001b[0m\n",
      "\u001b[0;32m~/miniconda3/envs/pandas0/lib/python3.8/site-packages/pandas/core/series.py\u001b[0m in \u001b[0;36m_get_value\u001b[0;34m(self, label, takeable)\u001b[0m\n\u001b[1;32m    959\u001b[0m \u001b[0;34m\u001b[0m\u001b[0m\n\u001b[1;32m    960\u001b[0m         \u001b[0;31m# Similar to Index.get_value, but we do not fall back to positional\u001b[0m\u001b[0;34m\u001b[0m\u001b[0;34m\u001b[0m\u001b[0;34m\u001b[0m\u001b[0m\n\u001b[0;32m--> 961\u001b[0;31m         \u001b[0mloc\u001b[0m \u001b[0;34m=\u001b[0m \u001b[0mself\u001b[0m\u001b[0;34m.\u001b[0m\u001b[0mindex\u001b[0m\u001b[0;34m.\u001b[0m\u001b[0mget_loc\u001b[0m\u001b[0;34m(\u001b[0m\u001b[0mlabel\u001b[0m\u001b[0;34m)\u001b[0m\u001b[0;34m\u001b[0m\u001b[0;34m\u001b[0m\u001b[0m\n\u001b[0m\u001b[1;32m    962\u001b[0m         \u001b[0;32mreturn\u001b[0m \u001b[0mself\u001b[0m\u001b[0;34m.\u001b[0m\u001b[0mindex\u001b[0m\u001b[0;34m.\u001b[0m\u001b[0m_get_values_for_loc\u001b[0m\u001b[0;34m(\u001b[0m\u001b[0mself\u001b[0m\u001b[0;34m,\u001b[0m \u001b[0mloc\u001b[0m\u001b[0;34m,\u001b[0m \u001b[0mlabel\u001b[0m\u001b[0;34m)\u001b[0m\u001b[0;34m\u001b[0m\u001b[0;34m\u001b[0m\u001b[0m\n\u001b[1;32m    963\u001b[0m \u001b[0;34m\u001b[0m\u001b[0m\n",
      "\u001b[0;32m~/miniconda3/envs/pandas0/lib/python3.8/site-packages/pandas/core/indexes/base.py\u001b[0m in \u001b[0;36mget_loc\u001b[0;34m(self, key, method, tolerance)\u001b[0m\n\u001b[1;32m   3080\u001b[0m                 \u001b[0;32mreturn\u001b[0m \u001b[0mself\u001b[0m\u001b[0;34m.\u001b[0m\u001b[0m_engine\u001b[0m\u001b[0;34m.\u001b[0m\u001b[0mget_loc\u001b[0m\u001b[0;34m(\u001b[0m\u001b[0mcasted_key\u001b[0m\u001b[0;34m)\u001b[0m\u001b[0;34m\u001b[0m\u001b[0;34m\u001b[0m\u001b[0m\n\u001b[1;32m   3081\u001b[0m             \u001b[0;32mexcept\u001b[0m \u001b[0mKeyError\u001b[0m \u001b[0;32mas\u001b[0m \u001b[0merr\u001b[0m\u001b[0;34m:\u001b[0m\u001b[0;34m\u001b[0m\u001b[0;34m\u001b[0m\u001b[0m\n\u001b[0;32m-> 3082\u001b[0;31m                 \u001b[0;32mraise\u001b[0m \u001b[0mKeyError\u001b[0m\u001b[0;34m(\u001b[0m\u001b[0mkey\u001b[0m\u001b[0;34m)\u001b[0m \u001b[0;32mfrom\u001b[0m \u001b[0merr\u001b[0m\u001b[0;34m\u001b[0m\u001b[0;34m\u001b[0m\u001b[0m\n\u001b[0m\u001b[1;32m   3083\u001b[0m \u001b[0;34m\u001b[0m\u001b[0m\n\u001b[1;32m   3084\u001b[0m         \u001b[0;32mif\u001b[0m \u001b[0mtolerance\u001b[0m \u001b[0;32mis\u001b[0m \u001b[0;32mnot\u001b[0m \u001b[0;32mNone\u001b[0m\u001b[0;34m:\u001b[0m\u001b[0;34m\u001b[0m\u001b[0;34m\u001b[0m\u001b[0m\n",
      "\u001b[0;31mKeyError\u001b[0m: 0"
     ]
    }
   ],
   "source": [
    "cy2021[0]"
   ]
  },
  {
   "cell_type": "code",
   "execution_count": 8,
   "id": "accompanied-dressing",
   "metadata": {
    "tags": []
   },
   "outputs": [
    {
     "data": {
      "text/plain": [
       "31"
      ]
     },
     "execution_count": 8,
     "metadata": {},
     "output_type": "execute_result"
    }
   ],
   "source": [
    "cy2021[1]"
   ]
  },
  {
   "cell_type": "markdown",
   "id": "subject-infrastructure",
   "metadata": {},
   "source": [
    "#### `iloc` -- an integer-location based indexing for selection by position"
   ]
  },
  {
   "cell_type": "code",
   "execution_count": 9,
   "id": "understanding-heart",
   "metadata": {},
   "outputs": [
    {
     "name": "stdout",
     "output_type": "stream",
     "text": [
      "31\n",
      "31\n"
     ]
    }
   ],
   "source": [
    "print(cy2021.iloc[0])\n",
    "print(cy2021.iloc[-1])"
   ]
  },
  {
   "cell_type": "code",
   "execution_count": 10,
   "id": "neutral-tennessee",
   "metadata": {},
   "outputs": [
    {
     "name": "stdout",
     "output_type": "stream",
     "text": [
      "1    31\n",
      "dtype: int64\n",
      "12    31\n",
      "dtype: int64\n"
     ]
    }
   ],
   "source": [
    "print(cy2021.iloc[[0]])\n",
    "print(cy2021.iloc[[-1]])"
   ]
  },
  {
   "cell_type": "code",
   "execution_count": 11,
   "id": "threaded-shell",
   "metadata": {},
   "outputs": [
    {
     "name": "stdout",
     "output_type": "stream",
     "text": [
      "Int64Index([1, 2, 3, 4, 5, 6, 7, 8, 9, 10, 11, 12], dtype='int64')\n"
     ]
    }
   ],
   "source": [
    "print(cy2021.index)"
   ]
  },
  {
   "cell_type": "code",
   "execution_count": 12,
   "id": "disabled-billy",
   "metadata": {
    "tags": []
   },
   "outputs": [],
   "source": [
    "cy2021.index=['Jan','Feb','Mar','Apr','May','Jun','Jul','Aug','Sep','Oct','Nov','Dec']"
   ]
  },
  {
   "cell_type": "code",
   "execution_count": 13,
   "id": "detailed-wallpaper",
   "metadata": {},
   "outputs": [
    {
     "name": "stdout",
     "output_type": "stream",
     "text": [
      "Index(['Jan', 'Feb', 'Mar', 'Apr', 'May', 'Jun', 'Jul', 'Aug', 'Sep', 'Oct',\n",
      "       'Nov', 'Dec'],\n",
      "      dtype='object')\n"
     ]
    }
   ],
   "source": [
    "print(cy2021.index)"
   ]
  },
  {
   "cell_type": "code",
   "execution_count": 14,
   "id": "floppy-rebel",
   "metadata": {},
   "outputs": [
    {
     "name": "stdout",
     "output_type": "stream",
     "text": [
      "Jan    31\n",
      "Feb    28\n",
      "Mar    31\n",
      "Apr    30\n",
      "May    31\n",
      "Jun    30\n",
      "Jul    31\n",
      "Aug    31\n",
      "Sep    30\n",
      "Oct    31\n",
      "Nov    30\n",
      "Dec    31\n",
      "dtype: int64\n"
     ]
    }
   ],
   "source": [
    "print(cy2021)"
   ]
  },
  {
   "cell_type": "markdown",
   "id": "suspected-bangladesh",
   "metadata": {},
   "source": [
    "#### `loc` -- access data by label(s) "
   ]
  },
  {
   "cell_type": "code",
   "execution_count": 15,
   "id": "prompt-reporter",
   "metadata": {},
   "outputs": [
    {
     "data": {
      "text/plain": [
       "28"
      ]
     },
     "execution_count": 15,
     "metadata": {},
     "output_type": "execute_result"
    }
   ],
   "source": [
    "cy2021.loc['Feb']"
   ]
  },
  {
   "cell_type": "code",
   "execution_count": 17,
   "id": "behind-flashing",
   "metadata": {},
   "outputs": [
    {
     "data": {
      "text/plain": [
       "Jan    31\n",
       "Feb    28\n",
       "dtype: int64"
      ]
     },
     "execution_count": 17,
     "metadata": {},
     "output_type": "execute_result"
    }
   ],
   "source": [
    "cy2021.loc[['Jan','Feb']]"
   ]
  },
  {
   "cell_type": "code",
   "execution_count": 16,
   "id": "lesbian-corpus",
   "metadata": {},
   "outputs": [
    {
     "data": {
      "text/plain": [
       "Feb    28\n",
       "dtype: int64"
      ]
     },
     "execution_count": 16,
     "metadata": {},
     "output_type": "execute_result"
    }
   ],
   "source": [
    "cy2021.loc[['Feb']]"
   ]
  },
  {
   "cell_type": "markdown",
   "id": "confused-riverside",
   "metadata": {},
   "source": [
    "#### Copy whole / partial data between Series"
   ]
  },
  {
   "cell_type": "markdown",
   "id": "distributed-requirement",
   "metadata": {},
   "source": [
    "##### Let's create Calendar Year 2020 by copying 2021"
   ]
  },
  {
   "cell_type": "code",
   "execution_count": 18,
   "id": "innovative-utility",
   "metadata": {},
   "outputs": [],
   "source": [
    "cy2020=cy2021"
   ]
  },
  {
   "cell_type": "code",
   "execution_count": 19,
   "id": "polish-buffalo",
   "metadata": {},
   "outputs": [
    {
     "name": "stdout",
     "output_type": "stream",
     "text": [
      "140672134934928\n"
     ]
    }
   ],
   "source": [
    "print(id(cy2020))"
   ]
  },
  {
   "cell_type": "code",
   "execution_count": 20,
   "id": "consolidated-wrestling",
   "metadata": {},
   "outputs": [
    {
     "name": "stdout",
     "output_type": "stream",
     "text": [
      "140672134934928\n"
     ]
    }
   ],
   "source": [
    "print(id(cy2021))"
   ]
  },
  {
   "cell_type": "markdown",
   "id": "protected-major",
   "metadata": {},
   "source": [
    "#### Create a new object with the copy of data"
   ]
  },
  {
   "cell_type": "code",
   "execution_count": null,
   "id": "virtual-defense",
   "metadata": {},
   "outputs": [],
   "source": [
    "cy2020=pd.Series(data=cy2021, copy=True)"
   ]
  },
  {
   "cell_type": "code",
   "execution_count": 21,
   "id": "special-europe",
   "metadata": {},
   "outputs": [],
   "source": [
    "cy2020=cy2021.copy()"
   ]
  },
  {
   "cell_type": "code",
   "execution_count": 22,
   "id": "persistent-exploration",
   "metadata": {},
   "outputs": [
    {
     "name": "stdout",
     "output_type": "stream",
     "text": [
      "Jan    31\n",
      "Feb    28\n",
      "Mar    31\n",
      "Apr    30\n",
      "May    31\n",
      "Jun    30\n",
      "Jul    31\n",
      "Aug    31\n",
      "Sep    30\n",
      "Oct    31\n",
      "Nov    30\n",
      "Dec    31\n",
      "dtype: int64\n"
     ]
    }
   ],
   "source": [
    "print(cy2020)"
   ]
  },
  {
   "cell_type": "code",
   "execution_count": 23,
   "id": "recent-magnitude",
   "metadata": {},
   "outputs": [],
   "source": [
    "cy2020[['Feb']]=29"
   ]
  },
  {
   "cell_type": "code",
   "execution_count": 24,
   "id": "known-broadway",
   "metadata": {},
   "outputs": [
    {
     "name": "stdout",
     "output_type": "stream",
     "text": [
      "Jan    31\n",
      "Feb    29\n",
      "Mar    31\n",
      "Apr    30\n",
      "May    31\n",
      "Jun    30\n",
      "Jul    31\n",
      "Aug    31\n",
      "Sep    30\n",
      "Oct    31\n",
      "Nov    30\n",
      "Dec    31\n",
      "dtype: int64\n"
     ]
    }
   ],
   "source": [
    "print(cy2020)"
   ]
  },
  {
   "cell_type": "markdown",
   "id": "frank-space",
   "metadata": {},
   "source": [
    "##### Create a Fiscal Year 2021 starting on July"
   ]
  },
  {
   "cell_type": "code",
   "execution_count": 25,
   "id": "complete-meaning",
   "metadata": {},
   "outputs": [],
   "source": [
    "fy2021=cy2020['Jul':].copy()"
   ]
  },
  {
   "cell_type": "code",
   "execution_count": 26,
   "id": "looking-basket",
   "metadata": {},
   "outputs": [
    {
     "name": "stdout",
     "output_type": "stream",
     "text": [
      "140671864140224 140671864140080\n"
     ]
    }
   ],
   "source": [
    "print(id(fy2021), id(cy2020))"
   ]
  },
  {
   "cell_type": "code",
   "execution_count": 27,
   "id": "ordinary-remains",
   "metadata": {},
   "outputs": [
    {
     "name": "stdout",
     "output_type": "stream",
     "text": [
      "Jul    31\n",
      "Aug    31\n",
      "Sep    30\n",
      "Oct    31\n",
      "Nov    30\n",
      "Dec    31\n",
      "dtype: int64\n"
     ]
    }
   ],
   "source": [
    "print(fy2021)"
   ]
  },
  {
   "cell_type": "code",
   "execution_count": 28,
   "id": "phantom-testimony",
   "metadata": {},
   "outputs": [],
   "source": [
    "fy2021=fy2021.append(cy2021[:'Jun'])"
   ]
  },
  {
   "cell_type": "code",
   "execution_count": 29,
   "id": "electoral-charlotte",
   "metadata": {},
   "outputs": [
    {
     "name": "stdout",
     "output_type": "stream",
     "text": [
      "Jul    31\n",
      "Aug    31\n",
      "Sep    30\n",
      "Oct    31\n",
      "Nov    30\n",
      "Dec    31\n",
      "Jan    31\n",
      "Feb    28\n",
      "Mar    31\n",
      "Apr    30\n",
      "May    31\n",
      "Jun    30\n",
      "dtype: int64\n"
     ]
    }
   ],
   "source": [
    "print(fy2021)"
   ]
  },
  {
   "cell_type": "code",
   "execution_count": 30,
   "id": "pregnant-concert",
   "metadata": {},
   "outputs": [],
   "source": [
    "fy2021=pd.Series(index=cy2020.index[6:].append(cy2021.index[:6]), dtype='int64')"
   ]
  },
  {
   "cell_type": "code",
   "execution_count": 31,
   "id": "continent-criterion",
   "metadata": {},
   "outputs": [
    {
     "name": "stdout",
     "output_type": "stream",
     "text": [
      "Jul    0\n",
      "Aug    0\n",
      "Sep    0\n",
      "Oct    0\n",
      "Nov    0\n",
      "Dec    0\n",
      "Jan    0\n",
      "Feb    0\n",
      "Mar    0\n",
      "Apr    0\n",
      "May    0\n",
      "Jun    0\n",
      "dtype: int64\n"
     ]
    }
   ],
   "source": [
    "print(fy2021)"
   ]
  },
  {
   "cell_type": "code",
   "execution_count": 32,
   "id": "welcome-whole",
   "metadata": {},
   "outputs": [
    {
     "name": "stdout",
     "output_type": "stream",
     "text": [
      "Jul    0\n",
      "Aug    0\n",
      "Sep    0\n",
      "Oct    0\n",
      "Nov    0\n",
      "Dec    0\n",
      "Jan    0\n",
      "Feb    0\n",
      "Mar    0\n",
      "Apr    0\n",
      "May    0\n",
      "Jun    0\n",
      "dtype: int64\n"
     ]
    }
   ],
   "source": [
    "print(fy2021.loc['Jul':'Jun'])"
   ]
  },
  {
   "cell_type": "code",
   "execution_count": 34,
   "id": "decimal-perception",
   "metadata": {},
   "outputs": [
    {
     "name": "stdout",
     "output_type": "stream",
     "text": [
      "Series([], dtype: int64)\n"
     ]
    }
   ],
   "source": [
    "print(fy2021.loc['Jan':'Dec'])"
   ]
  },
  {
   "cell_type": "code",
   "execution_count": 35,
   "id": "unable-december",
   "metadata": {},
   "outputs": [],
   "source": [
    "fy2021.iloc[:]=cy2020"
   ]
  },
  {
   "cell_type": "code",
   "execution_count": 37,
   "id": "opened-shaft",
   "metadata": {},
   "outputs": [],
   "source": [
    "fy2021.loc[:]=cy2020"
   ]
  },
  {
   "cell_type": "code",
   "execution_count": 39,
   "id": "northern-comparison",
   "metadata": {},
   "outputs": [],
   "source": [
    "fy2021.loc[['Feb']]=cy2021"
   ]
  },
  {
   "cell_type": "code",
   "execution_count": 40,
   "id": "tamil-essex",
   "metadata": {},
   "outputs": [
    {
     "name": "stdout",
     "output_type": "stream",
     "text": [
      "Jul    31\n",
      "Aug    31\n",
      "Sep    30\n",
      "Oct    31\n",
      "Nov    30\n",
      "Dec    31\n",
      "Jan    31\n",
      "Feb    28\n",
      "Mar    31\n",
      "Apr    30\n",
      "May    31\n",
      "Jun    30\n",
      "dtype: int64\n"
     ]
    }
   ],
   "source": [
    "print(fy2021)"
   ]
  },
  {
   "cell_type": "markdown",
   "id": "dental-domain",
   "metadata": {},
   "source": [
    "### Indexes and Operations on Series"
   ]
  },
  {
   "cell_type": "code",
   "execution_count": 41,
   "id": "pretty-functionality",
   "metadata": {},
   "outputs": [
    {
     "data": {
      "text/plain": [
       "Jan    0\n",
       "Feb    1\n",
       "Mar    0\n",
       "Apr    0\n",
       "May    0\n",
       "Jun    0\n",
       "Jul    0\n",
       "Aug    0\n",
       "Sep    0\n",
       "Oct    0\n",
       "Nov    0\n",
       "Dec    0\n",
       "dtype: int64"
      ]
     },
     "execution_count": 41,
     "metadata": {},
     "output_type": "execute_result"
    }
   ],
   "source": [
    "cy2020 - cy2021"
   ]
  },
  {
   "cell_type": "code",
   "execution_count": 42,
   "id": "returning-border",
   "metadata": {},
   "outputs": [],
   "source": [
    "day_differences = cy2020 - fy2021"
   ]
  },
  {
   "cell_type": "code",
   "execution_count": 43,
   "id": "neither-activity",
   "metadata": {},
   "outputs": [
    {
     "data": {
      "text/plain": [
       "Apr    0\n",
       "Aug    0\n",
       "Dec    0\n",
       "Feb    1\n",
       "Jan    0\n",
       "Jul    0\n",
       "Jun    0\n",
       "Mar    0\n",
       "May    0\n",
       "Nov    0\n",
       "Oct    0\n",
       "Sep    0\n",
       "dtype: int64"
      ]
     },
     "execution_count": 43,
     "metadata": {},
     "output_type": "execute_result"
    }
   ],
   "source": [
    "day_differences"
   ]
  },
  {
   "cell_type": "code",
   "execution_count": 44,
   "id": "german-title",
   "metadata": {},
   "outputs": [],
   "source": [
    "day_differences.index=cy2021.index"
   ]
  },
  {
   "cell_type": "code",
   "execution_count": 47,
   "id": "emotional-labor",
   "metadata": {},
   "outputs": [
    {
     "data": {
      "text/plain": [
       "Apr    0\n",
       "Aug    0\n",
       "Dec    0\n",
       "Feb    1\n",
       "Jan    0\n",
       "Jul    0\n",
       "Jun    0\n",
       "Mar    0\n",
       "May    0\n",
       "Nov    0\n",
       "Oct    0\n",
       "Sep    0\n",
       "dtype: int64"
      ]
     },
     "execution_count": 47,
     "metadata": {},
     "output_type": "execute_result"
    }
   ],
   "source": [
    "day_differences"
   ]
  },
  {
   "cell_type": "code",
   "execution_count": 46,
   "id": "continental-hamilton",
   "metadata": {},
   "outputs": [],
   "source": [
    "day_differences = cy2020 - fy2021"
   ]
  },
  {
   "cell_type": "code",
   "execution_count": 48,
   "id": "alpine-kingston",
   "metadata": {},
   "outputs": [
    {
     "data": {
      "text/plain": [
       "Jan    0\n",
       "Feb    1\n",
       "Mar    0\n",
       "Apr    0\n",
       "May    0\n",
       "Jun    0\n",
       "Jul    0\n",
       "Aug    0\n",
       "Sep    0\n",
       "Oct    0\n",
       "Nov    0\n",
       "Dec    0\n",
       "dtype: int64"
      ]
     },
     "execution_count": 48,
     "metadata": {},
     "output_type": "execute_result"
    }
   ],
   "source": [
    "day_differences.reindex_like(cy2020)"
   ]
  },
  {
   "cell_type": "code",
   "execution_count": 49,
   "id": "objective-prague",
   "metadata": {},
   "outputs": [
    {
     "data": {
      "text/plain": [
       "Jul    0\n",
       "Aug    0\n",
       "Sep    0\n",
       "Oct    0\n",
       "Nov    0\n",
       "Dec    0\n",
       "Jan    0\n",
       "Feb    1\n",
       "Mar    0\n",
       "Apr    0\n",
       "May    0\n",
       "Jun    0\n",
       "dtype: int64"
      ]
     },
     "execution_count": 49,
     "metadata": {},
     "output_type": "execute_result"
    }
   ],
   "source": [
    "day_differences.reindex_like(fy2021)"
   ]
  },
  {
   "cell_type": "markdown",
   "id": "suited-palace",
   "metadata": {},
   "source": [
    "### Boolean indexes"
   ]
  },
  {
   "cell_type": "code",
   "execution_count": 50,
   "id": "seasonal-density",
   "metadata": {},
   "outputs": [],
   "source": [
    "mask_boolean_vector=[False, False, False, False, False, True, True, True, False, False, False, False]"
   ]
  },
  {
   "cell_type": "code",
   "execution_count": 51,
   "id": "grateful-conversion",
   "metadata": {},
   "outputs": [
    {
     "name": "stdout",
     "output_type": "stream",
     "text": [
      "Jun    30\n",
      "Jul    31\n",
      "Aug    31\n",
      "dtype: int64\n"
     ]
    }
   ],
   "source": [
    "print(cy2021[mask_boolean_vector])"
   ]
  },
  {
   "cell_type": "code",
   "execution_count": 52,
   "id": "integrated-thousand",
   "metadata": {},
   "outputs": [
    {
     "name": "stdout",
     "output_type": "stream",
     "text": [
      "Jan    31\n",
      "Feb    28\n",
      "Mar    31\n",
      "Apr    30\n",
      "May    31\n",
      "Jun    30\n",
      "Jul    31\n",
      "Aug    31\n",
      "Sep    30\n",
      "Oct    31\n",
      "Nov    30\n",
      "Dec    31\n",
      "dtype: int64\n"
     ]
    }
   ],
   "source": [
    "print(cy2021)"
   ]
  },
  {
   "cell_type": "code",
   "execution_count": 53,
   "id": "overhead-consortium",
   "metadata": {},
   "outputs": [
    {
     "name": "stdout",
     "output_type": "stream",
     "text": [
      "Jan    False\n",
      "Feb    False\n",
      "Mar    False\n",
      "Apr    False\n",
      "May    False\n",
      "Jun     True\n",
      "Jul     True\n",
      "Aug     True\n",
      "Sep    False\n",
      "Oct    False\n",
      "Nov    False\n",
      "Dec    False\n",
      "dtype: bool\n"
     ]
    }
   ],
   "source": [
    "mask_boolean_vector_series=pd.Series([False, False, False, False, False, True, True, True, False, False, False, False], \n",
    "                               index=['Jan','Feb','Mar','Apr','May','Jun','Jul','Aug','Sep','Oct','Nov','Dec'])\n",
    "print(mask_boolean_vector_series)"
   ]
  },
  {
   "cell_type": "code",
   "execution_count": 54,
   "id": "painful-history",
   "metadata": {},
   "outputs": [
    {
     "name": "stdout",
     "output_type": "stream",
     "text": [
      "Jul    31\n",
      "Aug    31\n",
      "Jun    30\n",
      "dtype: int64\n"
     ]
    }
   ],
   "source": [
    "print(fy2021[mask_boolean_vector_series])"
   ]
  },
  {
   "cell_type": "code",
   "execution_count": 55,
   "id": "municipal-crack",
   "metadata": {},
   "outputs": [
    {
     "name": "stdout",
     "output_type": "stream",
     "text": [
      "Dec    31\n",
      "Jan    31\n",
      "Feb    28\n",
      "dtype: int64\n"
     ]
    }
   ],
   "source": [
    "print(fy2021[mask_boolean_vector])"
   ]
  },
  {
   "cell_type": "code",
   "execution_count": 56,
   "id": "circular-domestic",
   "metadata": {},
   "outputs": [
    {
     "data": {
      "text/plain": [
       "Jan     True\n",
       "Feb    False\n",
       "Mar     True\n",
       "Apr    False\n",
       "May     True\n",
       "Jun    False\n",
       "Jul     True\n",
       "Aug     True\n",
       "Sep    False\n",
       "Oct     True\n",
       "Nov    False\n",
       "Dec     True\n",
       "dtype: bool"
      ]
     },
     "execution_count": 56,
     "metadata": {},
     "output_type": "execute_result"
    }
   ],
   "source": [
    "cy2021>30"
   ]
  },
  {
   "cell_type": "code",
   "execution_count": 57,
   "id": "searching-jamaica",
   "metadata": {},
   "outputs": [
    {
     "data": {
      "text/plain": [
       "Apr    30\n",
       "Jun    30\n",
       "Sep    30\n",
       "Nov    30\n",
       "dtype: int64"
      ]
     },
     "execution_count": 57,
     "metadata": {},
     "output_type": "execute_result"
    }
   ],
   "source": [
    "cy2021[cy2021==30]"
   ]
  },
  {
   "cell_type": "code",
   "execution_count": 58,
   "id": "danish-testing",
   "metadata": {},
   "outputs": [
    {
     "name": "stdout",
     "output_type": "stream",
     "text": [
      "Jan    False\n",
      "Feb    False\n",
      "Mar    False\n",
      "Apr     True\n",
      "May    False\n",
      "Jun     True\n",
      "Jul    False\n",
      "Aug    False\n",
      "Sep     True\n",
      "Oct    False\n",
      "Nov     True\n",
      "Dec    False\n",
      "dtype: bool\n"
     ]
    }
   ],
   "source": [
    "mask_months_30days=(cy2021==30)\n",
    "print(mask_months_30days)"
   ]
  },
  {
   "cell_type": "code",
   "execution_count": 59,
   "id": "worst-industry",
   "metadata": {},
   "outputs": [
    {
     "name": "stdout",
     "output_type": "stream",
     "text": [
      "Apr    30\n",
      "Jun    30\n",
      "Sep    30\n",
      "Nov    30\n",
      "dtype: int64\n"
     ]
    }
   ],
   "source": [
    "print(cy2021[mask_months_30days])"
   ]
  },
  {
   "cell_type": "code",
   "execution_count": 60,
   "id": "elementary-round",
   "metadata": {},
   "outputs": [
    {
     "data": {
      "text/plain": [
       "Feb    28\n",
       "dtype: int64"
      ]
     },
     "execution_count": 60,
     "metadata": {},
     "output_type": "execute_result"
    }
   ],
   "source": [
    "cy2021[cy2020==29]"
   ]
  },
  {
   "cell_type": "markdown",
   "id": "pointed-photography",
   "metadata": {},
   "source": [
    "## Pandas DataFrames"
   ]
  },
  {
   "cell_type": "code",
   "execution_count": null,
   "id": "agricultural-field",
   "metadata": {},
   "outputs": [],
   "source": [
    "df_years = pd.DataFrame({'2020': cy2020, '2021': cy2021})\n",
    "print(df_years)"
   ]
  },
  {
   "cell_type": "code",
   "execution_count": null,
   "id": "regional-first",
   "metadata": {},
   "outputs": [],
   "source": [
    "df_years = pd.DataFrame({'2020': cy2020, '2021': cy2021, 'fy2021': fy2021})\n",
    "print(df_years)"
   ]
  },
  {
   "cell_type": "code",
   "execution_count": null,
   "id": "suited-warehouse",
   "metadata": {},
   "outputs": [],
   "source": [
    "df_years = pd.DataFrame({'2020': cy2020, '2021': cy2021, 'fy2021': fy2021}, \n",
    "                           index=cy2020.index\n",
    "                       )\n",
    "print(df_years)"
   ]
  },
  {
   "cell_type": "code",
   "execution_count": null,
   "id": "cubic-fence",
   "metadata": {},
   "outputs": [],
   "source": [
    "df_years.apply(func=np.sum, axis=0)"
   ]
  },
  {
   "cell_type": "markdown",
   "id": "covered-wheat",
   "metadata": {},
   "source": [
    "### Read from CSV"
   ]
  },
  {
   "cell_type": "code",
   "execution_count": null,
   "id": "played-dinner",
   "metadata": {},
   "outputs": [],
   "source": [
    "df_recvd = pd.read_csv('https://raw.githubusercontent.com/CSSEGISandData/COVID-19/master/csse_covid_19_data/csse_covid_19_time_series/time_series_covid19_recovered_global.csv')"
   ]
  },
  {
   "cell_type": "code",
   "execution_count": null,
   "id": "temporal-pontiac",
   "metadata": {},
   "outputs": [],
   "source": [
    "display(df_recvd)"
   ]
  },
  {
   "cell_type": "markdown",
   "id": "hungarian-characteristic",
   "metadata": {},
   "source": [
    "### Collect info about a dataframe"
   ]
  },
  {
   "cell_type": "code",
   "execution_count": null,
   "id": "lesser-bottom",
   "metadata": {},
   "outputs": [],
   "source": [
    "df_recvd.info()"
   ]
  },
  {
   "cell_type": "code",
   "execution_count": null,
   "id": "computational-charity",
   "metadata": {},
   "outputs": [],
   "source": [
    "df_recvd.index"
   ]
  },
  {
   "cell_type": "code",
   "execution_count": null,
   "id": "respiratory-prize",
   "metadata": {},
   "outputs": [],
   "source": [
    "df_recvd.columns"
   ]
  },
  {
   "cell_type": "code",
   "execution_count": null,
   "id": "powered-intelligence",
   "metadata": {},
   "outputs": [],
   "source": [
    "df_recvd.axes"
   ]
  },
  {
   "cell_type": "markdown",
   "id": "fourth-gibson",
   "metadata": {},
   "source": [
    "### Access by index/labels"
   ]
  },
  {
   "cell_type": "code",
   "execution_count": null,
   "id": "occupational-ontario",
   "metadata": {},
   "outputs": [],
   "source": [
    "df_recvd.iloc[194]"
   ]
  },
  {
   "cell_type": "code",
   "execution_count": null,
   "id": "hispanic-disorder",
   "metadata": {},
   "outputs": [],
   "source": [
    "df_recvd[194:195]"
   ]
  },
  {
   "cell_type": "code",
   "execution_count": null,
   "id": "collectible-fifth",
   "metadata": {},
   "outputs": [],
   "source": [
    "df_recvd.iloc[194:195]"
   ]
  },
  {
   "cell_type": "code",
   "execution_count": null,
   "id": "offshore-cornell",
   "metadata": {},
   "outputs": [],
   "source": [
    "df_recvd.loc[194:195]"
   ]
  },
  {
   "cell_type": "code",
   "execution_count": null,
   "id": "precise-treatment",
   "metadata": {},
   "outputs": [],
   "source": [
    "df_recvd.Lat"
   ]
  },
  {
   "cell_type": "code",
   "execution_count": null,
   "id": "random-nickname",
   "metadata": {},
   "outputs": [],
   "source": [
    "df_recvd['Country/Region']"
   ]
  },
  {
   "cell_type": "code",
   "execution_count": null,
   "id": "numerous-thirty",
   "metadata": {},
   "outputs": [],
   "source": [
    "df_recvd[['Country/Region']]"
   ]
  },
  {
   "cell_type": "code",
   "execution_count": null,
   "id": "tight-remark",
   "metadata": {},
   "outputs": [],
   "source": [
    "df_recvd.iloc[194].loc['3/22/21']"
   ]
  },
  {
   "cell_type": "code",
   "execution_count": null,
   "id": "retired-college",
   "metadata": {},
   "outputs": [],
   "source": [
    "df_recvd[df_recvd['Country/Region']=='Poland']"
   ]
  },
  {
   "cell_type": "code",
   "execution_count": null,
   "id": "double-poverty",
   "metadata": {},
   "outputs": [],
   "source": [
    "df_recvd[df_recvd['Country/Region']=='Poland'].loc[:,'3/22/21']"
   ]
  },
  {
   "cell_type": "code",
   "execution_count": null,
   "id": "collected-diagram",
   "metadata": {},
   "outputs": [],
   "source": [
    "df_recvd[df_recvd['Country/Region']=='Poland']['3/22/21']"
   ]
  },
  {
   "cell_type": "markdown",
   "id": "introductory-camera",
   "metadata": {},
   "source": [
    "## Have fun! "
   ]
  },
  {
   "cell_type": "code",
   "execution_count": null,
   "id": "conservative-messenger",
   "metadata": {},
   "outputs": [],
   "source": []
  }
 ],
 "metadata": {
  "kernelspec": {
   "display_name": "Python 3",
   "language": "python",
   "name": "python3"
  },
  "language_info": {
   "codemirror_mode": {
    "name": "ipython",
    "version": 3
   },
   "file_extension": ".py",
   "mimetype": "text/x-python",
   "name": "python",
   "nbconvert_exporter": "python",
   "pygments_lexer": "ipython3",
   "version": "3.8.8"
  }
 },
 "nbformat": 4,
 "nbformat_minor": 5
}
